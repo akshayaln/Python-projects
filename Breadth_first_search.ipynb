{
  "nbformat": 4,
  "nbformat_minor": 0,
  "metadata": {
    "colab": {
      "provenance": []
    },
    "kernelspec": {
      "name": "python3",
      "display_name": "Python 3"
    },
    "language_info": {
      "name": "python"
    }
  },
  "cells": [
    {
      "cell_type": "code",
      "execution_count": 1,
      "metadata": {
        "id": "0S_yXLDG-4sA"
      },
      "outputs": [],
      "source": [
        "class Queue():\n",
        "    def __init__(self):\n",
        "        self.size = 0\n",
        "        self.list = []\n",
        "\n",
        "    def enqueue(self, data):\n",
        "        self.list.append(data)\n",
        "        self.size += 1\n",
        "\n",
        "    def dequeue(self):\n",
        "        try:\n",
        "            self.size -= 1\n",
        "            return self.list.pop(0)\n",
        "        except Exception as error:\n",
        "            print(f'{error} is not possible')\n",
        "\n",
        "    def xprint(self, index):\n",
        "        print(self.list[index])"
      ]
    },
    {
      "cell_type": "code",
      "source": [
        "def breadth_first(graph, root):\n",
        "\n",
        "    queue = Queue()\n",
        "    visited_nodes = list()\n",
        "    queue.enqueue(root)\n",
        "    visited_nodes.append(root)\n",
        "    current_node = root\n",
        "\n",
        "    while queue.size > 0:\n",
        "        current_node = queue.dequeue()\n",
        "        adj_nodes = graph[current_node]\n",
        "        remaining_elements = sorted(set(adj_nodes) - set(visited_nodes))\n",
        "\n",
        "        if len(remaining_elements) > 0:\n",
        "            for element in remaining_elements:\n",
        "                visited_nodes.append(element)\n",
        "                queue.enqueue(element)\n",
        "\n",
        "    return visited_nodes"
      ],
      "metadata": {
        "id": "_EDUNXXE-_hp"
      },
      "execution_count": 2,
      "outputs": []
    },
    {
      "cell_type": "code",
      "source": [
        "if __name__ == '__main__':\n",
        "\n",
        "    graph = dict()\n",
        "\n",
        "    graph['A'] = ['B', 'G', 'D']\n",
        "    graph['B'] = ['A', 'F', 'E']\n",
        "    graph['C'] = ['F', 'H']\n",
        "    graph['D'] = ['F', 'A']\n",
        "    graph['E'] = ['B', 'G']\n",
        "    graph['F'] = ['B', 'D', 'C']\n",
        "    graph['G'] = ['A', 'E']\n",
        "    graph['H'] = ['C']"
      ],
      "metadata": {
        "id": "efa2rSVZ_Ear"
      },
      "execution_count": 4,
      "outputs": []
    },
    {
      "cell_type": "code",
      "source": [
        "   print(breadth_first(graph, 'A'))"
      ],
      "metadata": {
        "colab": {
          "base_uri": "https://localhost:8080/"
        },
        "id": "l3vNqTL7_JeJ",
        "outputId": "25e746d9-7bc8-4ba1-b9b5-5c20d5c59c85"
      },
      "execution_count": 5,
      "outputs": [
        {
          "output_type": "stream",
          "name": "stdout",
          "text": [
            "['A', 'B', 'D', 'G', 'E', 'F', 'C', 'H']\n"
          ]
        }
      ]
    }
  ]
}