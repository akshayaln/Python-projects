{
  "nbformat": 4,
  "nbformat_minor": 0,
  "metadata": {
    "colab": {
      "provenance": []
    },
    "kernelspec": {
      "name": "python3",
      "display_name": "Python 3"
    },
    "language_info": {
      "name": "python"
    }
  },
  "cells": [
    {
      "cell_type": "code",
      "execution_count": 2,
      "metadata": {
        "id": "rcdFp-88MHPy"
      },
      "outputs": [],
      "source": [
        "import numpy as np\n",
        "# Set the earth's radius (in kilometers)\n",
        "r = 6371\n",
        "\n",
        "# Convert degrees to radians\n",
        "def deg_to_rad(degrees):\n",
        "    return degrees * (np.pi/180)\n",
        "\n",
        "# Function to calculate the distance between two points\n",
        "# using the haversine formula\n",
        "def distcalculate(lat1, lon1, lat2, lon2):\n",
        "    d_lat = deg_to_rad(lat2-lat1)\n",
        "    d_lon = deg_to_rad(lon2-lon1)\n",
        "    a = np.sin(d_lat/2)**2 + np.cos(deg_to_rad(lat1)) * np.cos(deg_to_rad(lat2)) * np.sin(d_lon/2)**2\n",
        "    c = 2 * np.arctan2(np.sqrt(a), np.sqrt(1-a))\n",
        "    return r * c"
      ]
    },
    {
      "cell_type": "code",
      "source": [
        "print(distcalculate(22.745049, 75.892471, 22.765049, 75.912471))"
      ],
      "metadata": {
        "colab": {
          "base_uri": "https://localhost:8080/"
        },
        "id": "eYrbztVbNAHU",
        "outputId": "e2782138-90c7-4427-e9ca-00f3ca28f509"
      },
      "execution_count": 3,
      "outputs": [
        {
          "output_type": "stream",
          "name": "stdout",
          "text": [
            "3.0251492856773803\n"
          ]
        }
      ]
    }
  ]
}