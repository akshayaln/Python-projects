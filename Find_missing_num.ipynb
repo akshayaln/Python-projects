{
  "nbformat": 4,
  "nbformat_minor": 0,
  "metadata": {
    "colab": {
      "provenance": []
    },
    "kernelspec": {
      "name": "python3",
      "display_name": "Python 3"
    },
    "language_info": {
      "name": "python"
    }
  },
  "cells": [
    {
      "cell_type": "code",
      "execution_count": 1,
      "metadata": {
        "colab": {
          "base_uri": "https://localhost:8080/"
        },
        "id": "ZyfM_WTTygft",
        "outputId": "4b33d588-c80c-4099-b0fe-e4f2dc832ad4"
      },
      "outputs": [
        {
          "output_type": "stream",
          "name": "stdout",
          "text": [
            "[4, 12, 15]\n"
          ]
        }
      ],
      "source": [
        "def findMissingNumbers(n):\n",
        "    numbers = set(n)\n",
        "    length = len(n)\n",
        "    output = []\n",
        "    for i in range(1, n[-1]):\n",
        "        if i not in numbers:\n",
        "            output.append(i)\n",
        "    return output\n",
        "\n",
        "listOfNumbers = [1, 2, 3, 5, 6, 7, 8, 9, 10, 11, 13, 14, 16]\n",
        "print(findMissingNumbers(listOfNumbers))"
      ]
    }
  ]
}