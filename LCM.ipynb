{
  "nbformat": 4,
  "nbformat_minor": 0,
  "metadata": {
    "colab": {
      "provenance": []
    },
    "kernelspec": {
      "name": "python3",
      "display_name": "Python 3"
    },
    "language_info": {
      "name": "python"
    }
  },
  "cells": [
    {
      "cell_type": "code",
      "execution_count": 5,
      "metadata": {
        "colab": {
          "base_uri": "https://localhost:8080/"
        },
        "id": "e8NBPxnM0Exy",
        "outputId": "7c2d9e45-354a-4e7d-b5a1-9def302b465e"
      },
      "outputs": [
        {
          "output_type": "stream",
          "name": "stdout",
          "text": [
            "60\n"
          ]
        }
      ],
      "source": [
        "def least_common_multiple(a, b):\n",
        "    if a > b:\n",
        "        greater = a\n",
        "    elif b > a:\n",
        "        greater = b\n",
        "    while(True):\n",
        "        if ((greater % a == 0) and (greater % b == 0)):\n",
        "            lcm = greater\n",
        "            break\n",
        "        greater = greater + 1\n",
        "    return lcm\n",
        "\n",
        "print(least_common_multiple(10, 12))"
      ]
    }
  ]
}