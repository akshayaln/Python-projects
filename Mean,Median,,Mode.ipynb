{
  "nbformat": 4,
  "nbformat_minor": 0,
  "metadata": {
    "colab": {
      "provenance": []
    },
    "kernelspec": {
      "name": "python3",
      "display_name": "Python 3"
    },
    "language_info": {
      "name": "python"
    }
  },
  "cells": [
    {
      "cell_type": "code",
      "execution_count": 2,
      "metadata": {
        "colab": {
          "base_uri": "https://localhost:8080/"
        },
        "id": "i8X1XVmYk-f_",
        "outputId": "5653045d-b3e6-4402-dc5a-9a158f386a80"
      },
      "outputs": [
        {
          "output_type": "stream",
          "name": "stdout",
          "text": [
            "19.7\n"
          ]
        }
      ],
      "source": [
        "# Mean\n",
        "\n",
        "list1 = [12, 16, 20, 20, 7, 30, 25, 23, 24, 20]\n",
        "mean = sum(list1)/len(list1)\n",
        "print(mean)"
      ]
    },
    {
      "cell_type": "code",
      "source": [
        "# Median\n",
        "\n",
        "# Median\n",
        "list1 = [12, 16, 20, 20, 12, 30, 25, 23, 24, 20]\n",
        "list1.sort()\n",
        "\n",
        "if len(list1) % 2 == 0:\n",
        "    m1 = list1[len(list1)//2]\n",
        "    m2 = list1[len(list1)//2 - 1]\n",
        "    median = (m1 + m2)/2\n",
        "else:\n",
        "    median = list1[len(list1)//2]\n",
        "print(median)"
      ],
      "metadata": {
        "colab": {
          "base_uri": "https://localhost:8080/"
        },
        "id": "06LNWaBwmcpJ",
        "outputId": "b8770e00-2129-43ae-d59c-7ab15253945d"
      },
      "execution_count": 3,
      "outputs": [
        {
          "output_type": "stream",
          "name": "stdout",
          "text": [
            "20.0\n"
          ]
        }
      ]
    },
    {
      "cell_type": "code",
      "source": [
        "# Mode\n",
        "\n",
        "list1 = [12, 16, 20, 20, 12, 30, 25, 23, 24, 20]\n",
        "frequency = {}\n",
        "for i in list1:\n",
        "    frequency.setdefault(i, 0)\n",
        "    frequency[i]+=1\n",
        "\n",
        "frequent = max(frequency.values())\n",
        "for i, j in frequency.items():\n",
        "    if j == frequent:\n",
        "        mode = i\n",
        "print(mode)"
      ],
      "metadata": {
        "colab": {
          "base_uri": "https://localhost:8080/"
        },
        "id": "nTw3ESCGmhlo",
        "outputId": "0ebf4798-35b4-4284-c090-37821c46b2b9"
      },
      "execution_count": 4,
      "outputs": [
        {
          "output_type": "stream",
          "name": "stdout",
          "text": [
            "20\n"
          ]
        }
      ]
    }
  ]
}