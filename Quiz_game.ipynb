{
  "nbformat": 4,
  "nbformat_minor": 0,
  "metadata": {
    "colab": {
      "provenance": []
    },
    "kernelspec": {
      "name": "python3",
      "display_name": "Python 3"
    },
    "language_info": {
      "name": "python"
    }
  },
  "cells": [
    {
      "cell_type": "code",
      "execution_count": 16,
      "metadata": {
        "colab": {
          "base_uri": "https://localhost:8080/"
        },
        "id": "h9BbcxlEJh3E",
        "outputId": "b88dd965-259e-4024-f98d-16003ad15f81"
      },
      "outputs": [
        {
          "output_type": "stream",
          "name": "stdout",
          "text": [
            "Hello! Welcome to my Quiz\n",
            "All Questions carries 10 marks each\n",
            "Are you ready to play (yes/no): yes\n",
            "Note: wrtie answers! do not write option.\n",
            "Question- What is the best Programming Language? \n",
            "a): Python\n",
            "b): C\n",
            "c): Java\n",
            "&gt;&gt;&gt;python\n",
            "Correct\n",
            "Note: wrtie answers! do not write option.\n",
            "Question- Who is the Founder of Apple Inc? \n",
            "a): Mark Zuckerberg\n",
            "b): Warren Buffet\n",
            "c): Steve jobs\n",
            "&gt;&gt;&gt;steve jobs\n",
            "Correct\n",
            "Note: wrtie answers! do not write option.\n",
            "Question- What is more better among these? \n",
            "a): Data Science\n",
            "b): Artificial Intelligence\n",
            "c): Digital Marketing\n",
            "&gt;&gt;&gt;data science\n",
            "Incorrect\n",
            "Note: wrtie answers! do not write option.\n",
            "Question- What is the best Investment? \n",
            "a): Share Capital\n",
            "b): Mutual Funds\n",
            "c): Bitcoin\n",
            "&gt;&gt;&gt;Mutual Funds4\n",
            "Incorrect\n",
            "oops, your score is  20 / 40 better luck next time.\n"
          ]
        }
      ],
      "source": [
        "def give_options(x,y,z):\n",
        "    print(\"a):\", x)\n",
        "    print(\"b):\", y)\n",
        "    print(\"c):\", z)\n",
        "\n",
        "print(\"Hello! Welcome to my Quiz\" \"\\n\" \"All Questions carries 10 marks each\")\n",
        "ans = input(\"Are you ready to play (yes/no): \")\n",
        "a =\"Note: wrtie answers! do not write option.\"\n",
        "score = 0\n",
        "total_questions = 4\n",
        "\n",
        "correct_ans =[\"python\", \"steve jobs\", \"artificial intelligence\", \"bitcoin\"]\n",
        "\n",
        "if ans.lower() == \"yes\":\n",
        "    print(a)\n",
        "    print(\"Question- What is the best Programming Language? \")\n",
        "    give_options(\"Python\", \"C\", \"Java\" )\n",
        "    ans=input(\"&gt;&gt;&gt;\")\n",
        "    if ans.lower() == correct_ans[0]:\n",
        "        score=score+1\n",
        "        print(\"Correct\")\n",
        "    else:\n",
        "        print(\"Incorrect\")\n",
        "    print(a)\n",
        "    print(\"Question- Who is the Founder of Apple Inc? \")\n",
        "    give_options(\"Mark Zuckerberg\", \"Warren Buffet\", \"Steve jobs\")\n",
        "    ans = input(\"&gt;&gt;&gt;\")\n",
        "    if ans.lower() == correct_ans[1]:\n",
        "        score=score+1\n",
        "        print(\"Correct\")\n",
        "    else:\n",
        "        print(\"Incorrect\")\n",
        "    print(a)\n",
        "    print(\"Question- What is more better among these? \")\n",
        "    give_options(\"Data Science\", \"Artificial Intelligence\", \"Digital Marketing\")\n",
        "    ans = input(\"&gt;&gt;&gt;\")\n",
        "    if ans.lower() == correct_ans[2]:\n",
        "        score=score+1\n",
        "        print(\"Correct\")\n",
        "    else:\n",
        "        print(\"Incorrect\")\n",
        "    print(a)\n",
        "    print(\"Question- What is the best Investment? \")\n",
        "    give_options(\"Share Capital\", \"Mutual Funds\", \"Bitcoin\")\n",
        "    ans = input(\"&gt;&gt;&gt;\")\n",
        "    if ans.lower() == correct_ans[3]:\n",
        "        score=score+1\n",
        "        print(\"Correct\")\n",
        "    else:\n",
        "        print(\"Incorrect\")\n",
        "\n",
        "i = score*10\n",
        "if i < 30:\n",
        "    print(\"oops, your score is \",i,\"/ 40 better luck next time.\")\n",
        "elif i ==30:\n",
        "    print(\"wow! you scored \",i,\"/ 40 you are quiet smart.\")\n",
        "else:\n",
        "    print(\"Congratulations! it's a perfect \",i,\"/ 40 you are Intelligent.\")"
      ]
    }
  ]
}