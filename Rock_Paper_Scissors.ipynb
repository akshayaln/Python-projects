{
  "nbformat": 4,
  "nbformat_minor": 0,
  "metadata": {
    "colab": {
      "provenance": []
    },
    "kernelspec": {
      "name": "python3",
      "display_name": "Python 3"
    },
    "language_info": {
      "name": "python"
    }
  },
  "cells": [
    {
      "cell_type": "code",
      "execution_count": 3,
      "metadata": {
        "colab": {
          "base_uri": "https://localhost:8080/"
        },
        "id": "WAcnhhbyo81S",
        "outputId": "50fb9d3f-2f67-42c4-bfa0-3d67c6360336"
      },
      "outputs": [
        {
          "output_type": "stream",
          "name": "stdout",
          "text": [
            "Select Rock, Paper, or Scissor :rock\n",
            "Akshu selected:  rock\n",
            "Tie\n"
          ]
        }
      ],
      "source": [
        "import random\n",
        "\n",
        "player1 = input(\"Select Rock, Paper, or Scissor :\").lower()\n",
        "Akshu = random.choice([\"Rock\", \"Paper\", \"Scissor\"]).lower()\n",
        "print(\"Akshu selected: \", Akshu)\n",
        "\n",
        "if player1 == \"rock\" and Akshu == \"paper\":\n",
        "    print(\"Akshu Won\")\n",
        "elif player1 == \"paper\" and Akshu == \"scissor\":\n",
        "    print(\"Akshu Won\")\n",
        "elif player1 == \"scissor\" and Akshu == \"rock\":\n",
        "    print(\"Akshu Won\")\n",
        "elif player1 == Akshu:\n",
        "    print(\"Tie\")\n",
        "else:\n",
        "    print(\"Player 1 Won\")"
      ]
    }
  ]
}