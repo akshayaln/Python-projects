{
  "nbformat": 4,
  "nbformat_minor": 0,
  "metadata": {
    "colab": {
      "provenance": []
    },
    "kernelspec": {
      "name": "python3",
      "display_name": "Python 3"
    },
    "language_info": {
      "name": "python"
    }
  },
  "cells": [
    {
      "cell_type": "code",
      "execution_count": 2,
      "metadata": {
        "colab": {
          "base_uri": "https://localhost:8080/"
        },
        "id": "JUVKOVz9m3Mk",
        "outputId": "f03f9a9b-285d-4c89-d566-7465b2c4c2c2"
      },
      "outputs": [
        {
          "output_type": "stream",
          "name": "stdout",
          "text": [
            " AL\n",
            "Execution Time :  0.0003299713134765625\n"
          ]
        }
      ],
      "source": [
        "from time import time\n",
        "start = time()\n",
        "\n",
        "# Python program to create acronyms\n",
        "word = \"Akshaya LN\"\n",
        "text = word.split()\n",
        "a = \" \"\n",
        "for i in text:\n",
        "    a = a+str(i[0]).upper()\n",
        "print(a)\n",
        "\n",
        "end = time()\n",
        "execution_time = end - start\n",
        "print(\"Execution Time : \", execution_time)"
      ]
    }
  ]
}