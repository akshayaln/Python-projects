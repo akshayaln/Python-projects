{
  "nbformat": 4,
  "nbformat_minor": 0,
  "metadata": {
    "colab": {
      "provenance": []
    },
    "kernelspec": {
      "name": "python3",
      "display_name": "Python 3"
    },
    "language_info": {
      "name": "python"
    }
  },
  "cells": [
    {
      "cell_type": "code",
      "execution_count": 1,
      "metadata": {
        "colab": {
          "base_uri": "https://localhost:8080/"
        },
        "id": "HJ0nMfzujmQ4",
        "outputId": "b805a6bf-932e-40c2-e6d8-d1f2951ef1e4"
      },
      "outputs": [
        {
          "output_type": "stream",
          "name": "stdout",
          "text": [
            "Name: akash\n",
            "Phone Number: p0459049\n",
            "Name: anu\n",
            "Phone Number: 0909\n",
            "Name: vaibhav\n",
            "Phone Number: 450480\n",
            "\n",
            "Name\t\t\tPhone Number\n",
            "\n",
            "akash\t\t\tp0459049\n",
            "anu\t\t\t0909\n",
            "vaibhav\t\t\t450480\n",
            "\n",
            "Enter search term: vaibhav\n",
            "Search result:\n",
            "Name: vaibhav, Phone Number: 450480\n"
          ]
        }
      ],
      "source": [
        "names = []\n",
        "phone_numbers = []\n",
        "num = 3\n",
        "\n",
        "\n",
        "for i in range(num):\n",
        "    name = input(\"Name: \")\n",
        "    phone_number = input(\"Phone Number: \") # for convert to int => int(input(\"Phone Number: \"))\n",
        "\n",
        "    names.append(name)\n",
        "    phone_numbers.append(phone_number)\n",
        "\n",
        "print(\"\\nName\\t\\t\\tPhone Number\\n\")\n",
        "\n",
        "for i in range(num):\n",
        "    print(\"{}\\t\\t\\t{}\".format(names[i], phone_numbers[i]))\n",
        "\n",
        "search_term = input(\"\\nEnter search term: \")\n",
        "\n",
        "print(\"Search result:\")\n",
        "\n",
        "if search_term in names:\n",
        "    index = names.index(search_term)\n",
        "    phone_number = phone_numbers[index]\n",
        "    print(\"Name: {}, Phone Number: {}\".format(search_term, phone_number))\n",
        "\n",
        "else:\n",
        "    print(\"Name Not Found\")"
      ]
    }
  ]
}