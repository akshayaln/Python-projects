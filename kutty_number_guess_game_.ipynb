{
  "nbformat": 4,
  "nbformat_minor": 0,
  "metadata": {
    "colab": {
      "provenance": []
    },
    "kernelspec": {
      "name": "python3",
      "display_name": "Python 3"
    },
    "language_info": {
      "name": "python"
    }
  },
  "cells": [
    {
      "cell_type": "code",
      "execution_count": 1,
      "metadata": {
        "colab": {
          "base_uri": "https://localhost:8080/"
        },
        "id": "k2_Wp-9zwSBP",
        "outputId": "b9cd52f7-d94b-4497-d9a4-6d621068396a"
      },
      "outputs": [
        {
          "output_type": "stream",
          "name": "stdout",
          "text": [
            "Enter any number: 4\n",
            "Too low\n",
            "Enter number again: 5\n",
            "Too low\n",
            "Enter number again: 6\n",
            "Too low\n",
            "Enter number again: 8\n",
            "Too high!\n",
            "Enter number again: 7\n",
            "jeichtaa maaraa!!\n"
          ]
        }
      ],
      "source": [
        "import random\n",
        "n = random.randrange(1,10)\n",
        "guess = int(input(\"Enter any number: \"))\n",
        "while n!= guess:\n",
        "    if guess < n:\n",
        "        print(\"Too low\")\n",
        "        guess = int(input(\"Enter number again: \"))\n",
        "    elif guess > n:\n",
        "        print(\"Too high!\")\n",
        "        guess = int(input(\"Enter number again: \"))\n",
        "    else:\n",
        "      break\n",
        "print(\"jeichtaa maaraa!!\")"
      ]
    }
  ]
}