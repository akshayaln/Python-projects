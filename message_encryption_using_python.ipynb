{
  "cells": [
    {
      "cell_type": "code",
      "source": [
        "message_data = {\n",
        "    \"Aman\": [\n",
        "        {\"message\": \"Hey Divyansha, how's it going?\", \"time\": \"2023-03-21 10:30:00\"},\n",
        "        {\"message\": \"Not too bad, just working on some coding projects. Did you hear about the new encryption algorithm?\", \"time\": \"2023-03-21 10:35:00\"},\n",
        "        {\"message\": \"It's called AES256 and it's supposed to be really secure. Want to give it a try with our messages?\", \"time\": \"2023-03-21 10:40:00\"},\n",
        "    ],\n",
        "    \"Divyansha\": [\n",
        "        {\"message\": \"Good, thanks! How about you?\", \"time\": \"2023-03-21 10:32:00\"},\n",
        "        {\"message\": \"No, what's that?\", \"time\": \"2023-03-21 10:37:00\"},\n",
        "        {\"message\": \"Sure, let's do it!\", \"time\": \"2023-03-21 10:42:00\"},\n",
        "    ]\n",
        "}"
      ],
      "metadata": {
        "id": "FpoT8iyAkIC7"
      },
      "execution_count": 2,
      "outputs": []
    },
    {
      "cell_type": "code",
      "execution_count": 3,
      "metadata": {
        "id": "gJr_9dXGpJ05"
      },
      "outputs": [],
      "source": [
        "import os\n",
        "from cryptography.hazmat.primitives.ciphers import Cipher, algorithms, modes\n",
        "from cryptography.hazmat.backends import default_backend\n",
        "shared_secret_key = os.urandom(32)"
      ]
    },
    {
      "cell_type": "code",
      "execution_count": 4,
      "metadata": {
        "id": "-gE-Ez1qtyIA"
      },
      "outputs": [],
      "source": [
        "def encrypt_message(message, key):\n",
        "    iv = os.urandom(16)\n",
        "    cipher = Cipher(algorithms.AES(key), modes.CBC(iv), backend=default_backend())\n",
        "    encryptor = cipher.encryptor()\n",
        "    padded_message = message + (16 - len(message) % 16) * chr(16 - len(message) % 16)\n",
        "    ciphertext = encryptor.update(padded_message.encode()) + encryptor.finalize()\n",
        "    return iv + ciphertext"
      ]
    },
    {
      "cell_type": "code",
      "execution_count": 1,
      "metadata": {
        "id": "C4HZx7Gndbrh"
      },
      "outputs": [],
      "source": [
        "def decrypt_message(ciphertext, key):\n",
        "    iv = ciphertext[:16]\n",
        "    cipher = Cipher(algorithms.AES(key), modes.CBC(iv), backend=default_backend())\n",
        "    decryptor = cipher.decryptor()\n",
        "    plaintext = decryptor.update(ciphertext[16:]) + decryptor.finalize()\n",
        "    padding_length = plaintext[-1]\n",
        "    plaintext = plaintext[:-padding_length]\n",
        "    return plaintext.decode()"
      ]
    },
    {
      "cell_type": "code",
      "source": [
        "for person, messages in message_data.items():\n",
        "    for message in messages:\n",
        "        encrypted_message = encrypt_message(message[\"message\"], shared_secret_key)\n",
        "        message[\"message\"] = encrypted_message.hex()\n",
        "\n",
        "print(\"Encrypted message_data dictionary:\")\n",
        "print(message_data)"
      ],
      "metadata": {
        "id": "EHJKmONlkDMF",
        "outputId": "483523f3-bb3d-42a8-8348-fceed0687ffb",
        "colab": {
          "base_uri": "https://localhost:8080/"
        }
      },
      "execution_count": 5,
      "outputs": [
        {
          "output_type": "stream",
          "name": "stdout",
          "text": [
            "Encrypted message_data dictionary:\n",
            "{'Aman': [{'message': 'ba73831a741caefa14874a3c40ddcbd1234733714a347118a1cabc1fcd36197d0307d976b224b4f2da2d0a2208966243', 'time': '2023-03-21 10:30:00'}, {'message': '1d3f43e075ffd2be7462a56fbb2cdf17a1ce9799434b89e9900f41d520ac170170a5c55a084eb007b97ccd37d5054f751ed42b82484e1fcca3d0483b55eadafd8e76fb7ff502d377ec6749e80d5c52393d6735c348e36abb5bf284c312eb8c318dd1db9dafaf862ec992154d85265664d02b28a2e9de7e02abbf48e3049ab415', 'time': '2023-03-21 10:35:00'}, {'message': '8d758d125acdc0c4a4e09e46b086139ba0f8096e6574eb6383795764960d60f939b9b92378aa971c20efd4ddbf529a2afa645a57345b2b377be5c631ba8951f5d4fd6248f8418a2413ec35761bc9770d44e1cbecb73fb4eb95c8eff2f61cda4e749be8f10d9e318bc9f1bb3eccc4990ef4326c34368eb3aead7058a5575c6935', 'time': '2023-03-21 10:40:00'}], 'Divyansha': [{'message': '1d723b8baf837854632446aff186e4824a73ccb4110373715b5fd9f3dd9fb6f17795a4e7c3a475c6204a5c542a73e721', 'time': '2023-03-21 10:32:00'}, {'message': '6bbd985ec2a9ed05354d0648afd429d0775d42310472e9dfd187fc1d41444d6c54f5b61698ce33ea1076a82c540192cf', 'time': '2023-03-21 10:37:00'}, {'message': '3c9d781659ef7c5573ce5190dd76fe4633541d951bb7b3a1ebc30ffefea9db51e0a735a5954c1a68c9f654a5c6a15054', 'time': '2023-03-21 10:42:00'}]}\n"
          ]
        }
      ]
    },
    {
      "cell_type": "code",
      "source": [
        "for person, messages in message_data.items():\n",
        "    for message in messages:\n",
        "        ciphertext = bytes.fromhex(message[\"message\"])\n",
        "        decrypted_message = decrypt_message(ciphertext, shared_secret_key)\n",
        "        message[\"message\"] = decrypted_message\n",
        "\n",
        "print(\"Decrypted message_data dictionary:\")\n",
        "print(message_data)"
      ],
      "metadata": {
        "colab": {
          "base_uri": "https://localhost:8080/"
        },
        "id": "tNRjwNrZlIwY",
        "outputId": "e625c7cf-ec51-4480-c687-5c3bc048c6f4"
      },
      "execution_count": 6,
      "outputs": [
        {
          "output_type": "stream",
          "name": "stdout",
          "text": [
            "Decrypted message_data dictionary:\n",
            "{'Aman': [{'message': \"Hey Divyansha, how's it going?\", 'time': '2023-03-21 10:30:00'}, {'message': 'Not too bad, just working on some coding projects. Did you hear about the new encryption algorithm?', 'time': '2023-03-21 10:35:00'}, {'message': \"It's called AES256 and it's supposed to be really secure. Want to give it a try with our messages?\", 'time': '2023-03-21 10:40:00'}], 'Divyansha': [{'message': 'Good, thanks! How about you?', 'time': '2023-03-21 10:32:00'}, {'message': \"No, what's that?\", 'time': '2023-03-21 10:37:00'}, {'message': \"Sure, let's do it!\", 'time': '2023-03-21 10:42:00'}]}\n"
          ]
        }
      ]
    }
  ],
  "metadata": {
    "colab": {
      "provenance": []
    },
    "kernelspec": {
      "display_name": "Python 3",
      "name": "python3"
    }
  },
  "nbformat": 4,
  "nbformat_minor": 0
}