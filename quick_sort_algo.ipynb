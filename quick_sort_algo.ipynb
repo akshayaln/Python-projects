{
  "nbformat": 4,
  "nbformat_minor": 0,
  "metadata": {
    "colab": {
      "provenance": []
    },
    "kernelspec": {
      "name": "python3",
      "display_name": "Python 3"
    },
    "language_info": {
      "name": "python"
    }
  },
  "cells": [
    {
      "cell_type": "code",
      "execution_count": 4,
      "metadata": {
        "colab": {
          "base_uri": "https://localhost:8080/"
        },
        "id": "h9BbcxlEJh3E",
        "outputId": "e0f26c66-48f4-4b50-9694-0f516322b22a"
      },
      "outputs": [
        {
          "output_type": "stream",
          "name": "stdout",
          "text": [
            "[1, 2, 3, 3, 5, 6, 6, 8, 9]\n"
          ]
        }
      ],
      "source": [
        "\n",
        "def partition(input_list,low,high):\n",
        "    i = (low - 1)\n",
        "    item = input_list[high]\n",
        "    for j in range(low, high):\n",
        "        if input_list[j] <= item:\n",
        "            i = i + 1\n",
        "            input_list[i], input_list[j] =  input_list[j], input_list[i]\n",
        "    input_list[i+1],input_list[high] = input_list[high],input_list[i+1]\n",
        "    return (i+1)\n",
        "\n",
        "def quickSort(input_list, low, high):\n",
        "    if low < high:\n",
        "        partition_index = partition(input_list,low,high)\n",
        "        quickSort(input_list, low, partition_index - 1)\n",
        "        quickSort(input_list, partition_index + 1, high)\n",
        "\n",
        "\n",
        "\n",
        "input_l = [9, 3, 5, 2, 6, 8, 6, 1, 3]\n",
        "list_length = len(input_l)\n",
        "quickSort(input_l, 0, list_length -1)\n",
        "\n",
        "print(input_l)"
      ]
    }
  ]
}