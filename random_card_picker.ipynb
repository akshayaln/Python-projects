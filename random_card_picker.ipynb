{
  "nbformat": 4,
  "nbformat_minor": 0,
  "metadata": {
    "colab": {
      "provenance": []
    },
    "kernelspec": {
      "name": "python3",
      "display_name": "Python 3"
    },
    "language_info": {
      "name": "python"
    }
  },
  "cells": [
    {
      "cell_type": "code",
      "execution_count": 2,
      "metadata": {
        "colab": {
          "base_uri": "https://localhost:8080/"
        },
        "id": "YB-yifTl10xJ",
        "outputId": "ed797b20-397a-46ab-b458-1011bdd4dd20"
      },
      "outputs": [
        {
          "output_type": "stream",
          "name": "stdout",
          "text": [
            "The [2] of ['Diamonds']\n"
          ]
        }
      ],
      "source": [
        "import random\n",
        "cards = [\"Diamonds\", \"Spades\", \"Hearts\", \"Clubs\"]\n",
        "ranks = [2, 3, 4, 5, 6, 7, 8, 9, 10, \"Jack\", \"Queen\", \"King\", \"Ace\"]\n",
        "\n",
        "def pick_a_card():\n",
        "    card = random.choices(cards)\n",
        "    rank = random.choices(ranks)\n",
        "    return(f\"The {rank} of {card}\")\n",
        "\n",
        "print(pick_a_card())"
      ]
    }
  ]
}